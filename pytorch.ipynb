{
  "nbformat": 4,
  "nbformat_minor": 0,
  "metadata": {
    "colab": {
      "provenance": []
    },
    "kernelspec": {
      "name": "python3",
      "display_name": "Python 3"
    },
    "language_info": {
      "name": "python"
    }
  },
  "cells": [
    {
      "cell_type": "markdown",
      "source": [
        "pytorch i used for deep learning and is used for making models for machine learning using unstructured data .\n",
        "the main thing it uses is tensors they are builidng blocks."
      ],
      "metadata": {
        "id": "UnpD4q5dTBj7"
      }
    },
    {
      "cell_type": "code",
      "execution_count": 1,
      "metadata": {
        "colab": {
          "base_uri": "https://localhost:8080/",
          "height": 36
        },
        "id": "i2Dgq6wuQntB",
        "outputId": "2f4afa61-7e70-42da-a2aa-55df1dc6206a"
      },
      "outputs": [
        {
          "output_type": "execute_result",
          "data": {
            "text/plain": [
              "'2.3.1+cu121'"
            ],
            "application/vnd.google.colaboratory.intrinsic+json": {
              "type": "string"
            }
          },
          "metadata": {},
          "execution_count": 1
        }
      ],
      "source": [
        "import torch\n",
        "\n",
        "torch.__version__"
      ]
    },
    {
      "cell_type": "code",
      "source": [
        "scalar = torch.tensor(7)\n",
        "scalar"
      ],
      "metadata": {
        "colab": {
          "base_uri": "https://localhost:8080/"
        },
        "id": "oCWXfHgIYeRo",
        "outputId": "0f6d1749-5d8c-4d0e-ac45-726aa890cd27"
      },
      "execution_count": 3,
      "outputs": [
        {
          "output_type": "execute_result",
          "data": {
            "text/plain": [
              "tensor(7)"
            ]
          },
          "metadata": {},
          "execution_count": 3
        }
      ]
    },
    {
      "cell_type": "code",
      "source": [
        "scalar.ndim"
      ],
      "metadata": {
        "colab": {
          "base_uri": "https://localhost:8080/"
        },
        "id": "tWiNk9xrYY1r",
        "outputId": "b3dd08da-9625-453b-d18e-0908e708f1bb"
      },
      "execution_count": 4,
      "outputs": [
        {
          "output_type": "execute_result",
          "data": {
            "text/plain": [
              "0"
            ]
          },
          "metadata": {},
          "execution_count": 4
        }
      ]
    },
    {
      "cell_type": "code",
      "source": [
        "scalar.item()"
      ],
      "metadata": {
        "colab": {
          "base_uri": "https://localhost:8080/"
        },
        "id": "n3HbdeqeYlDw",
        "outputId": "2cca3485-e919-4c3f-ba51-8d9e2ec00ea9"
      },
      "execution_count": 5,
      "outputs": [
        {
          "output_type": "execute_result",
          "data": {
            "text/plain": [
              "7"
            ]
          },
          "metadata": {},
          "execution_count": 5
        }
      ]
    },
    {
      "cell_type": "code",
      "source": [
        "vector = torch.tensor([7,7])\n",
        "vector"
      ],
      "metadata": {
        "colab": {
          "base_uri": "https://localhost:8080/"
        },
        "id": "_rxjFzDFYqvV",
        "outputId": "26180fb4-f786-43b2-f00a-6a69d86a1171"
      },
      "execution_count": 6,
      "outputs": [
        {
          "output_type": "execute_result",
          "data": {
            "text/plain": [
              "tensor([7, 7])"
            ]
          },
          "metadata": {},
          "execution_count": 6
        }
      ]
    },
    {
      "cell_type": "code",
      "source": [
        "vector.ndim"
      ],
      "metadata": {
        "colab": {
          "base_uri": "https://localhost:8080/"
        },
        "id": "7-uRJumeYvwu",
        "outputId": "d12e52f1-7f35-4113-9e11-ac5c6f36c6dd"
      },
      "execution_count": 7,
      "outputs": [
        {
          "output_type": "execute_result",
          "data": {
            "text/plain": [
              "1"
            ]
          },
          "metadata": {},
          "execution_count": 7
        }
      ]
    },
    {
      "cell_type": "code",
      "source": [
        "vector.shape"
      ],
      "metadata": {
        "colab": {
          "base_uri": "https://localhost:8080/"
        },
        "id": "bi2RgY50YyQT",
        "outputId": "29f95fda-c667-477d-b730-aa489792a0ac"
      },
      "execution_count": 8,
      "outputs": [
        {
          "output_type": "execute_result",
          "data": {
            "text/plain": [
              "torch.Size([2])"
            ]
          },
          "metadata": {},
          "execution_count": 8
        }
      ]
    },
    {
      "cell_type": "code",
      "source": [
        "matrix = torch.tensor([[2,17,3],[10,8,3]])\n",
        "\n",
        "matrix"
      ],
      "metadata": {
        "colab": {
          "base_uri": "https://localhost:8080/"
        },
        "id": "s1AU1JlkY009",
        "outputId": "43760a63-4ce2-4d4a-8eff-fe68513c74d2"
      },
      "execution_count": 13,
      "outputs": [
        {
          "output_type": "execute_result",
          "data": {
            "text/plain": [
              "tensor([[ 2, 17,  3],\n",
              "        [10,  8,  3]])"
            ]
          },
          "metadata": {},
          "execution_count": 13
        }
      ]
    },
    {
      "cell_type": "code",
      "source": [
        "matrix.ndim"
      ],
      "metadata": {
        "colab": {
          "base_uri": "https://localhost:8080/"
        },
        "id": "pyY4NEDDZNjY",
        "outputId": "cb781cbd-dbf7-4480-a534-ceef12616cf9"
      },
      "execution_count": 10,
      "outputs": [
        {
          "output_type": "execute_result",
          "data": {
            "text/plain": [
              "2"
            ]
          },
          "metadata": {},
          "execution_count": 10
        }
      ]
    },
    {
      "cell_type": "code",
      "source": [
        "matrix.shape"
      ],
      "metadata": {
        "colab": {
          "base_uri": "https://localhost:8080/"
        },
        "id": "GDtP0mkHZPWh",
        "outputId": "4ca9c373-0099-4682-d4d8-df1070132f51"
      },
      "execution_count": 14,
      "outputs": [
        {
          "output_type": "execute_result",
          "data": {
            "text/plain": [
              "torch.Size([2, 3])"
            ]
          },
          "metadata": {},
          "execution_count": 14
        }
      ]
    },
    {
      "cell_type": "code",
      "source": [
        "tensor = torch.tensor([[[1,2,3],[3,4,5],[8,9,0]]])\n",
        "\n",
        "tensor"
      ],
      "metadata": {
        "colab": {
          "base_uri": "https://localhost:8080/"
        },
        "id": "_RB1q8HPZRfv",
        "outputId": "3e84aa6d-295d-4f25-8551-916f5602f96d"
      },
      "execution_count": 15,
      "outputs": [
        {
          "output_type": "execute_result",
          "data": {
            "text/plain": [
              "tensor([[[1, 2, 3],\n",
              "         [3, 4, 5],\n",
              "         [8, 9, 0]]])"
            ]
          },
          "metadata": {},
          "execution_count": 15
        }
      ]
    },
    {
      "cell_type": "code",
      "source": [
        "tensor.ndim"
      ],
      "metadata": {
        "colab": {
          "base_uri": "https://localhost:8080/"
        },
        "id": "hJWbqlQYZxg5",
        "outputId": "fdbf0aa0-4e52-407a-f24a-c390ce9345f7"
      },
      "execution_count": 16,
      "outputs": [
        {
          "output_type": "execute_result",
          "data": {
            "text/plain": [
              "3"
            ]
          },
          "metadata": {},
          "execution_count": 16
        }
      ]
    },
    {
      "cell_type": "code",
      "source": [
        "tensor.shape"
      ],
      "metadata": {
        "colab": {
          "base_uri": "https://localhost:8080/"
        },
        "id": "XhvtE2fdZ0G3",
        "outputId": "efcab828-dc52-42f3-9080-8e4085ea82c4"
      },
      "execution_count": 17,
      "outputs": [
        {
          "output_type": "execute_result",
          "data": {
            "text/plain": [
              "torch.Size([1, 3, 3])"
            ]
          },
          "metadata": {},
          "execution_count": 17
        }
      ]
    },
    {
      "cell_type": "code",
      "source": [
        "rantensor = torch.rand(size=(3,4))\n",
        "rantensor,rantensor.dtype"
      ],
      "metadata": {
        "colab": {
          "base_uri": "https://localhost:8080/"
        },
        "id": "LwPeDI9XZ3uT",
        "outputId": "15b63395-38c9-4dc1-ce60-af995477e577"
      },
      "execution_count": 21,
      "outputs": [
        {
          "output_type": "execute_result",
          "data": {
            "text/plain": [
              "(tensor([[0.4198, 0.5043, 0.8761, 0.1327],\n",
              "         [0.6611, 0.6867, 0.9426, 0.9845],\n",
              "         [0.9442, 0.9335, 0.2495, 0.9416]]),\n",
              " torch.float32)"
            ]
          },
          "metadata": {},
          "execution_count": 21
        }
      ]
    },
    {
      "cell_type": "code",
      "source": [
        "rantensor.shape"
      ],
      "metadata": {
        "colab": {
          "base_uri": "https://localhost:8080/"
        },
        "id": "lixgzxeRa3Rk",
        "outputId": "43b399b4-4c56-4737-cd72-8fb3c304504b"
      },
      "execution_count": 22,
      "outputs": [
        {
          "output_type": "execute_result",
          "data": {
            "text/plain": [
              "torch.Size([3, 4])"
            ]
          },
          "metadata": {},
          "execution_count": 22
        }
      ]
    },
    {
      "cell_type": "code",
      "source": [
        "rantensor.ndim"
      ],
      "metadata": {
        "colab": {
          "base_uri": "https://localhost:8080/"
        },
        "id": "mmNSjXKDbWZz",
        "outputId": "06a42ef7-2004-40a1-d882-f3d5c0a2eb37"
      },
      "execution_count": 23,
      "outputs": [
        {
          "output_type": "execute_result",
          "data": {
            "text/plain": [
              "2"
            ]
          },
          "metadata": {},
          "execution_count": 23
        }
      ]
    },
    {
      "cell_type": "code",
      "source": [
        "rantensor.size"
      ],
      "metadata": {
        "colab": {
          "base_uri": "https://localhost:8080/"
        },
        "id": "dxeWif_pbYOI",
        "outputId": "ea167c3d-05ee-4a3e-b230-eedcd5611b5a"
      },
      "execution_count": 24,
      "outputs": [
        {
          "output_type": "execute_result",
          "data": {
            "text/plain": [
              "<function Tensor.size>"
            ]
          },
          "metadata": {},
          "execution_count": 24
        }
      ]
    },
    {
      "cell_type": "code",
      "source": [
        "imgtensor = torch.rand(size=(224,224,3))\n",
        "imgtensor.shape, imgtensor.ndim"
      ],
      "metadata": {
        "colab": {
          "base_uri": "https://localhost:8080/"
        },
        "id": "B0_qWFaqbhzN",
        "outputId": "7ca9c220-f278-4dcd-cb22-195cf1ce4c93"
      },
      "execution_count": 25,
      "outputs": [
        {
          "output_type": "execute_result",
          "data": {
            "text/plain": [
              "(torch.Size([224, 224, 3]), 3)"
            ]
          },
          "metadata": {},
          "execution_count": 25
        }
      ]
    },
    {
      "cell_type": "code",
      "source": [
        "imgtensor"
      ],
      "metadata": {
        "colab": {
          "base_uri": "https://localhost:8080/"
        },
        "id": "zf2b-GuNb1Bv",
        "outputId": "f41cd942-8ea7-450b-9999-827bcdcaea3a"
      },
      "execution_count": 26,
      "outputs": [
        {
          "output_type": "execute_result",
          "data": {
            "text/plain": [
              "tensor([[[0.8736, 0.3393, 0.6445],\n",
              "         [0.1920, 0.4792, 0.7149],\n",
              "         [0.8356, 0.4282, 0.2331],\n",
              "         ...,\n",
              "         [0.4961, 0.6266, 0.5168],\n",
              "         [0.3893, 0.4153, 0.1864],\n",
              "         [0.3023, 0.2854, 0.0162]],\n",
              "\n",
              "        [[0.6702, 0.3594, 0.6667],\n",
              "         [0.8065, 0.0450, 0.8641],\n",
              "         [0.5310, 0.1213, 0.9286],\n",
              "         ...,\n",
              "         [0.0604, 0.8808, 0.8353],\n",
              "         [0.9104, 0.8852, 0.6615],\n",
              "         [0.9280, 0.7313, 0.3725]],\n",
              "\n",
              "        [[0.4269, 0.6399, 0.5239],\n",
              "         [0.3142, 0.9505, 0.4625],\n",
              "         [0.7903, 0.8863, 0.7637],\n",
              "         ...,\n",
              "         [0.2200, 0.0161, 0.9962],\n",
              "         [0.8094, 0.6064, 0.1593],\n",
              "         [0.6217, 0.8905, 0.1976]],\n",
              "\n",
              "        ...,\n",
              "\n",
              "        [[0.4846, 0.0556, 0.7586],\n",
              "         [0.0470, 0.0903, 0.7959],\n",
              "         [0.3900, 0.9599, 0.7254],\n",
              "         ...,\n",
              "         [0.5144, 0.8984, 0.6887],\n",
              "         [0.1083, 0.7837, 0.5974],\n",
              "         [0.8188, 0.8123, 0.2435]],\n",
              "\n",
              "        [[0.6513, 0.1735, 0.0550],\n",
              "         [0.1997, 0.5062, 0.0264],\n",
              "         [0.4289, 0.3532, 0.9784],\n",
              "         ...,\n",
              "         [0.1968, 0.9954, 0.7154],\n",
              "         [0.6514, 0.8002, 0.1231],\n",
              "         [0.3310, 0.8379, 0.9084]],\n",
              "\n",
              "        [[0.8334, 0.9748, 0.6216],\n",
              "         [0.4684, 0.5521, 0.7266],\n",
              "         [0.8814, 0.5331, 0.9597],\n",
              "         ...,\n",
              "         [0.1081, 0.3999, 0.9081],\n",
              "         [0.0601, 0.3463, 0.6316],\n",
              "         [0.1691, 0.8084, 0.8145]]])"
            ]
          },
          "metadata": {},
          "execution_count": 26
        }
      ]
    },
    {
      "cell_type": "code",
      "source": [
        "zeros = torch.zeros(size=(3,4))\n",
        "zeros,zeros.dtype"
      ],
      "metadata": {
        "colab": {
          "base_uri": "https://localhost:8080/"
        },
        "id": "nauHUJ90cf77",
        "outputId": "610805cd-ad24-443f-c371-224aa8d6ab5d"
      },
      "execution_count": 31,
      "outputs": [
        {
          "output_type": "execute_result",
          "data": {
            "text/plain": [
              "(tensor([[0., 0., 0., 0.],\n",
              "         [0., 0., 0., 0.],\n",
              "         [0., 0., 0., 0.]]),\n",
              " torch.float32)"
            ]
          },
          "metadata": {},
          "execution_count": 31
        }
      ]
    },
    {
      "cell_type": "code",
      "source": [
        "one = torch.ones(size=(3,4))\n",
        "one,one.dtype"
      ],
      "metadata": {
        "colab": {
          "base_uri": "https://localhost:8080/"
        },
        "id": "EO7okh3idfK9",
        "outputId": "eb8c74fb-fe93-415b-f180-5ada18f2345d"
      },
      "execution_count": 33,
      "outputs": [
        {
          "output_type": "execute_result",
          "data": {
            "text/plain": [
              "(tensor([[1., 1., 1., 1.],\n",
              "         [1., 1., 1., 1.],\n",
              "         [1., 1., 1., 1.]]),\n",
              " torch.float32)"
            ]
          },
          "metadata": {},
          "execution_count": 33
        }
      ]
    },
    {
      "cell_type": "code",
      "source": [
        "dep  = torch.arange(start = 0,end = 10,step=1)\n",
        "dep,dep.shape"
      ],
      "metadata": {
        "colab": {
          "base_uri": "https://localhost:8080/"
        },
        "id": "TU8Hjqybdoqw",
        "outputId": "19c1190a-e6f5-4620-d46e-c170c0d275cd"
      },
      "execution_count": 39,
      "outputs": [
        {
          "output_type": "execute_result",
          "data": {
            "text/plain": [
              "(tensor([0, 1, 2, 3, 4, 5, 6, 7, 8, 9]), torch.Size([10]))"
            ]
          },
          "metadata": {},
          "execution_count": 39
        }
      ]
    },
    {
      "cell_type": "code",
      "source": [
        "tenzo = torch.zeros_like(input=dep)\n",
        "tenzo"
      ],
      "metadata": {
        "colab": {
          "base_uri": "https://localhost:8080/"
        },
        "id": "3SG7N4nad9ih",
        "outputId": "9d684429-f30b-433a-9fb8-34876d6fdf26"
      },
      "execution_count": 40,
      "outputs": [
        {
          "output_type": "execute_result",
          "data": {
            "text/plain": [
              "tensor([0, 0, 0, 0, 0, 0, 0, 0, 0, 0])"
            ]
          },
          "metadata": {},
          "execution_count": 40
        }
      ]
    }
  ]
}