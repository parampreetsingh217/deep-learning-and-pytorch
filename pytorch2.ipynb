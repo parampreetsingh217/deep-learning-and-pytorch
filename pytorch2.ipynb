{
  "nbformat": 4,
  "nbformat_minor": 0,
  "metadata": {
    "colab": {
      "provenance": []
    },
    "kernelspec": {
      "name": "python3",
      "display_name": "Python 3"
    },
    "language_info": {
      "name": "python"
    }
  },
  "cells": [
    {
      "cell_type": "markdown",
      "source": [
        "pytorch i used for deep learning and is used for making models for machine learning using unstructured data .\n",
        "the main thing it uses is tensors they are builidng blocks."
      ],
      "metadata": {
        "id": "UnpD4q5dTBj7"
      }
    },
    {
      "cell_type": "code",
      "execution_count": 2,
      "metadata": {
        "colab": {
          "base_uri": "https://localhost:8080/",
          "height": 36
        },
        "id": "i2Dgq6wuQntB",
        "outputId": "9fc3d0a2-16cb-436a-d205-207815c18b45"
      },
      "outputs": [
        {
          "output_type": "execute_result",
          "data": {
            "text/plain": [
              "'2.3.1+cu121'"
            ],
            "application/vnd.google.colaboratory.intrinsic+json": {
              "type": "string"
            }
          },
          "metadata": {},
          "execution_count": 2
        }
      ],
      "source": [
        "import torch\n",
        "\n",
        "torch.__version__"
      ]
    },
    {
      "cell_type": "code",
      "source": [
        "scalar = torch.tensor(7)\n",
        "scalar"
      ],
      "metadata": {
        "colab": {
          "base_uri": "https://localhost:8080/"
        },
        "id": "oCWXfHgIYeRo",
        "outputId": "339545f4-a3ea-4e56-ed27-3abfd20f4f93"
      },
      "execution_count": 3,
      "outputs": [
        {
          "output_type": "execute_result",
          "data": {
            "text/plain": [
              "tensor(7)"
            ]
          },
          "metadata": {},
          "execution_count": 3
        }
      ]
    },
    {
      "cell_type": "code",
      "source": [
        "scalar.ndim"
      ],
      "metadata": {
        "colab": {
          "base_uri": "https://localhost:8080/"
        },
        "id": "tWiNk9xrYY1r",
        "outputId": "3690b5ad-c35a-4a30-b7ff-51fd024c5efd"
      },
      "execution_count": 4,
      "outputs": [
        {
          "output_type": "execute_result",
          "data": {
            "text/plain": [
              "0"
            ]
          },
          "metadata": {},
          "execution_count": 4
        }
      ]
    },
    {
      "cell_type": "code",
      "source": [
        "scalar.item()"
      ],
      "metadata": {
        "colab": {
          "base_uri": "https://localhost:8080/"
        },
        "id": "n3HbdeqeYlDw",
        "outputId": "5e66d989-0908-44ea-8ac8-6114ab152042"
      },
      "execution_count": 5,
      "outputs": [
        {
          "output_type": "execute_result",
          "data": {
            "text/plain": [
              "7"
            ]
          },
          "metadata": {},
          "execution_count": 5
        }
      ]
    },
    {
      "cell_type": "code",
      "source": [
        "vector = torch.tensor([7,7])\n",
        "vector"
      ],
      "metadata": {
        "colab": {
          "base_uri": "https://localhost:8080/"
        },
        "id": "_rxjFzDFYqvV",
        "outputId": "cf5675d5-9909-43fc-9ceb-5fcabb69fb08"
      },
      "execution_count": 6,
      "outputs": [
        {
          "output_type": "execute_result",
          "data": {
            "text/plain": [
              "tensor([7, 7])"
            ]
          },
          "metadata": {},
          "execution_count": 6
        }
      ]
    },
    {
      "cell_type": "code",
      "source": [
        "vector.ndim"
      ],
      "metadata": {
        "colab": {
          "base_uri": "https://localhost:8080/"
        },
        "id": "7-uRJumeYvwu",
        "outputId": "d253adca-f13b-4d11-88ec-d76ba118dfcd"
      },
      "execution_count": 7,
      "outputs": [
        {
          "output_type": "execute_result",
          "data": {
            "text/plain": [
              "1"
            ]
          },
          "metadata": {},
          "execution_count": 7
        }
      ]
    },
    {
      "cell_type": "code",
      "source": [
        "vector.shape"
      ],
      "metadata": {
        "colab": {
          "base_uri": "https://localhost:8080/"
        },
        "id": "bi2RgY50YyQT",
        "outputId": "baad86c5-70ad-40fe-c760-887d8a78d53a"
      },
      "execution_count": 8,
      "outputs": [
        {
          "output_type": "execute_result",
          "data": {
            "text/plain": [
              "torch.Size([2])"
            ]
          },
          "metadata": {},
          "execution_count": 8
        }
      ]
    },
    {
      "cell_type": "code",
      "source": [
        "matrix = torch.tensor([[2,17,3],[10,8,3]])\n",
        "\n",
        "matrix"
      ],
      "metadata": {
        "colab": {
          "base_uri": "https://localhost:8080/"
        },
        "id": "s1AU1JlkY009",
        "outputId": "450da410-8618-419d-af8a-0f068cc17eb8"
      },
      "execution_count": 9,
      "outputs": [
        {
          "output_type": "execute_result",
          "data": {
            "text/plain": [
              "tensor([[ 2, 17,  3],\n",
              "        [10,  8,  3]])"
            ]
          },
          "metadata": {},
          "execution_count": 9
        }
      ]
    },
    {
      "cell_type": "code",
      "source": [
        "matrix.ndim"
      ],
      "metadata": {
        "colab": {
          "base_uri": "https://localhost:8080/"
        },
        "id": "pyY4NEDDZNjY",
        "outputId": "419b9679-d66f-4565-ebdc-2f8b495d52a9"
      },
      "execution_count": 10,
      "outputs": [
        {
          "output_type": "execute_result",
          "data": {
            "text/plain": [
              "2"
            ]
          },
          "metadata": {},
          "execution_count": 10
        }
      ]
    },
    {
      "cell_type": "code",
      "source": [
        "matrix.shape"
      ],
      "metadata": {
        "colab": {
          "base_uri": "https://localhost:8080/"
        },
        "id": "GDtP0mkHZPWh",
        "outputId": "b995249c-a32b-4d2d-8f50-fafb9e37adce"
      },
      "execution_count": 11,
      "outputs": [
        {
          "output_type": "execute_result",
          "data": {
            "text/plain": [
              "torch.Size([2, 3])"
            ]
          },
          "metadata": {},
          "execution_count": 11
        }
      ]
    },
    {
      "cell_type": "code",
      "source": [
        "tensor = torch.tensor([[[1,2,3],[3,4,5],[8,9,0]]])\n",
        "\n",
        "tensor"
      ],
      "metadata": {
        "colab": {
          "base_uri": "https://localhost:8080/"
        },
        "id": "_RB1q8HPZRfv",
        "outputId": "122515e2-bbea-428c-eeaf-1da40b9eebe1"
      },
      "execution_count": 12,
      "outputs": [
        {
          "output_type": "execute_result",
          "data": {
            "text/plain": [
              "tensor([[[1, 2, 3],\n",
              "         [3, 4, 5],\n",
              "         [8, 9, 0]]])"
            ]
          },
          "metadata": {},
          "execution_count": 12
        }
      ]
    },
    {
      "cell_type": "code",
      "source": [
        "tensor.ndim"
      ],
      "metadata": {
        "colab": {
          "base_uri": "https://localhost:8080/"
        },
        "id": "hJWbqlQYZxg5",
        "outputId": "9eeaf33d-26de-4577-9e2b-94f489f62573"
      },
      "execution_count": 13,
      "outputs": [
        {
          "output_type": "execute_result",
          "data": {
            "text/plain": [
              "3"
            ]
          },
          "metadata": {},
          "execution_count": 13
        }
      ]
    },
    {
      "cell_type": "code",
      "source": [
        "tensor.shape"
      ],
      "metadata": {
        "colab": {
          "base_uri": "https://localhost:8080/"
        },
        "id": "XhvtE2fdZ0G3",
        "outputId": "3aae2f39-f98e-4e88-b660-0f01126be178"
      },
      "execution_count": 14,
      "outputs": [
        {
          "output_type": "execute_result",
          "data": {
            "text/plain": [
              "torch.Size([1, 3, 3])"
            ]
          },
          "metadata": {},
          "execution_count": 14
        }
      ]
    },
    {
      "cell_type": "code",
      "source": [
        "rantensor = torch.rand(size=(3,4))\n",
        "rantensor,rantensor.dtype"
      ],
      "metadata": {
        "colab": {
          "base_uri": "https://localhost:8080/"
        },
        "id": "LwPeDI9XZ3uT",
        "outputId": "d2e742ab-a668-4764-b827-6d30ae804398"
      },
      "execution_count": 15,
      "outputs": [
        {
          "output_type": "execute_result",
          "data": {
            "text/plain": [
              "(tensor([[0.5115, 0.2549, 0.6983, 0.5914],\n",
              "         [0.2713, 0.8234, 0.9620, 0.2233],\n",
              "         [0.7222, 0.3853, 0.5157, 0.4695]]),\n",
              " torch.float32)"
            ]
          },
          "metadata": {},
          "execution_count": 15
        }
      ]
    },
    {
      "cell_type": "code",
      "source": [
        "rantensor.shape"
      ],
      "metadata": {
        "colab": {
          "base_uri": "https://localhost:8080/"
        },
        "id": "lixgzxeRa3Rk",
        "outputId": "f6377534-40ec-4d13-d70d-c57b01951f32"
      },
      "execution_count": 16,
      "outputs": [
        {
          "output_type": "execute_result",
          "data": {
            "text/plain": [
              "torch.Size([3, 4])"
            ]
          },
          "metadata": {},
          "execution_count": 16
        }
      ]
    },
    {
      "cell_type": "code",
      "source": [
        "rantensor.ndim"
      ],
      "metadata": {
        "colab": {
          "base_uri": "https://localhost:8080/"
        },
        "id": "mmNSjXKDbWZz",
        "outputId": "b626d6dc-5d78-4570-8948-8602ece0c1b9"
      },
      "execution_count": 17,
      "outputs": [
        {
          "output_type": "execute_result",
          "data": {
            "text/plain": [
              "2"
            ]
          },
          "metadata": {},
          "execution_count": 17
        }
      ]
    },
    {
      "cell_type": "code",
      "source": [
        "rantensor.size"
      ],
      "metadata": {
        "colab": {
          "base_uri": "https://localhost:8080/"
        },
        "id": "dxeWif_pbYOI",
        "outputId": "08cebc87-7388-438a-d374-534ea20d8594"
      },
      "execution_count": 18,
      "outputs": [
        {
          "output_type": "execute_result",
          "data": {
            "text/plain": [
              "<function Tensor.size>"
            ]
          },
          "metadata": {},
          "execution_count": 18
        }
      ]
    },
    {
      "cell_type": "code",
      "source": [
        "imgtensor = torch.rand(size=(224,224,3))\n",
        "imgtensor.shape, imgtensor.ndim"
      ],
      "metadata": {
        "colab": {
          "base_uri": "https://localhost:8080/"
        },
        "id": "B0_qWFaqbhzN",
        "outputId": "da186d55-9921-43bc-b981-8efbc5752e6c"
      },
      "execution_count": 19,
      "outputs": [
        {
          "output_type": "execute_result",
          "data": {
            "text/plain": [
              "(torch.Size([224, 224, 3]), 3)"
            ]
          },
          "metadata": {},
          "execution_count": 19
        }
      ]
    },
    {
      "cell_type": "code",
      "source": [
        "imgtensor"
      ],
      "metadata": {
        "colab": {
          "base_uri": "https://localhost:8080/"
        },
        "id": "zf2b-GuNb1Bv",
        "outputId": "cc265fa1-3815-418a-f1a8-9ca3826a1c19"
      },
      "execution_count": 20,
      "outputs": [
        {
          "output_type": "execute_result",
          "data": {
            "text/plain": [
              "tensor([[[0.4952, 0.3593, 0.3442],\n",
              "         [0.4651, 0.9343, 0.3618],\n",
              "         [0.5359, 0.8124, 0.2697],\n",
              "         ...,\n",
              "         [0.2051, 0.1520, 0.8093],\n",
              "         [0.8607, 0.1355, 0.8411],\n",
              "         [0.3510, 0.8205, 0.5737]],\n",
              "\n",
              "        [[0.1530, 0.0563, 0.4230],\n",
              "         [0.8482, 0.4437, 0.7354],\n",
              "         [0.1433, 0.0372, 0.1344],\n",
              "         ...,\n",
              "         [0.5783, 0.2316, 0.8448],\n",
              "         [0.3642, 0.8997, 0.8964],\n",
              "         [0.4756, 0.4101, 0.6794]],\n",
              "\n",
              "        [[0.4604, 0.3612, 0.7006],\n",
              "         [0.4041, 0.4041, 0.0196],\n",
              "         [0.9635, 0.0216, 0.4983],\n",
              "         ...,\n",
              "         [0.4229, 0.0101, 0.2683],\n",
              "         [0.9403, 0.7611, 0.2059],\n",
              "         [0.9769, 0.9314, 0.6946]],\n",
              "\n",
              "        ...,\n",
              "\n",
              "        [[0.3752, 0.3425, 0.6553],\n",
              "         [0.7203, 0.1865, 0.6987],\n",
              "         [0.0067, 0.9498, 0.1046],\n",
              "         ...,\n",
              "         [0.6338, 0.5203, 0.7801],\n",
              "         [0.7585, 0.0148, 0.3751],\n",
              "         [0.5904, 0.5146, 0.6382]],\n",
              "\n",
              "        [[0.9551, 0.2206, 0.7866],\n",
              "         [0.0065, 0.3071, 0.5338],\n",
              "         [0.9871, 0.4289, 0.6080],\n",
              "         ...,\n",
              "         [0.8662, 0.8156, 0.3335],\n",
              "         [0.7613, 0.4491, 0.4017],\n",
              "         [0.7784, 0.1502, 0.9524]],\n",
              "\n",
              "        [[0.9642, 0.9474, 0.0310],\n",
              "         [0.1822, 0.6178, 0.9888],\n",
              "         [0.0900, 0.0077, 0.6769],\n",
              "         ...,\n",
              "         [0.9997, 0.6043, 0.5361],\n",
              "         [0.3805, 0.2178, 0.7072],\n",
              "         [0.9167, 0.7083, 0.1261]]])"
            ]
          },
          "metadata": {},
          "execution_count": 20
        }
      ]
    },
    {
      "cell_type": "code",
      "source": [
        "zeros = torch.zeros(size=(3,4))\n",
        "zeros,zeros.dtype"
      ],
      "metadata": {
        "colab": {
          "base_uri": "https://localhost:8080/"
        },
        "id": "nauHUJ90cf77",
        "outputId": "9a03611d-ca6c-4f5c-ad54-720b56ad98b0"
      },
      "execution_count": 21,
      "outputs": [
        {
          "output_type": "execute_result",
          "data": {
            "text/plain": [
              "(tensor([[0., 0., 0., 0.],\n",
              "         [0., 0., 0., 0.],\n",
              "         [0., 0., 0., 0.]]),\n",
              " torch.float32)"
            ]
          },
          "metadata": {},
          "execution_count": 21
        }
      ]
    },
    {
      "cell_type": "code",
      "source": [
        "one = torch.ones(size=(3,4))\n",
        "one,one.dtype"
      ],
      "metadata": {
        "colab": {
          "base_uri": "https://localhost:8080/"
        },
        "id": "EO7okh3idfK9",
        "outputId": "0d4ebcd5-b4db-4fbf-822a-9707c40c57c1"
      },
      "execution_count": 22,
      "outputs": [
        {
          "output_type": "execute_result",
          "data": {
            "text/plain": [
              "(tensor([[1., 1., 1., 1.],\n",
              "         [1., 1., 1., 1.],\n",
              "         [1., 1., 1., 1.]]),\n",
              " torch.float32)"
            ]
          },
          "metadata": {},
          "execution_count": 22
        }
      ]
    },
    {
      "cell_type": "code",
      "source": [
        "dep  = torch.arange(start = 0,end = 10,step=1)\n",
        "dep,dep.shape"
      ],
      "metadata": {
        "colab": {
          "base_uri": "https://localhost:8080/"
        },
        "id": "TU8Hjqybdoqw",
        "outputId": "9bc2b060-db35-47db-d5f1-7ae2dc805713"
      },
      "execution_count": 23,
      "outputs": [
        {
          "output_type": "execute_result",
          "data": {
            "text/plain": [
              "(tensor([0, 1, 2, 3, 4, 5, 6, 7, 8, 9]), torch.Size([10]))"
            ]
          },
          "metadata": {},
          "execution_count": 23
        }
      ]
    },
    {
      "cell_type": "code",
      "source": [
        "tenzo = torch.zeros_like(input=dep)\n",
        "tenzo"
      ],
      "metadata": {
        "colab": {
          "base_uri": "https://localhost:8080/"
        },
        "id": "3SG7N4nad9ih",
        "outputId": "25c9b139-aafc-4b02-ef22-00eddf800c5a"
      },
      "execution_count": 24,
      "outputs": [
        {
          "output_type": "execute_result",
          "data": {
            "text/plain": [
              "tensor([0, 0, 0, 0, 0, 0, 0, 0, 0, 0])"
            ]
          },
          "metadata": {},
          "execution_count": 24
        }
      ]
    },
    {
      "cell_type": "code",
      "source": [
        "float_32_tensor = torch.tensor([3.0,6.0,9.0],\n",
        "                              dtype=None,\n",
        "                               device=None,\n",
        "                               requires_grad=False)\n",
        "\n",
        "float_32_tensor.shape ,float_32_tensor.dtype, float_32_tensor.device\n"
      ],
      "metadata": {
        "colab": {
          "base_uri": "https://localhost:8080/"
        },
        "id": "ScOvRgBSEjeM",
        "outputId": "914e1c67-1e2e-4ca0-c3cc-231568b601f9"
      },
      "execution_count": 28,
      "outputs": [
        {
          "output_type": "execute_result",
          "data": {
            "text/plain": [
              "(torch.Size([3]), torch.float32, device(type='cpu'))"
            ]
          },
          "metadata": {},
          "execution_count": 28
        }
      ]
    },
    {
      "cell_type": "code",
      "source": [
        "ftensor = torch.tensor([3.0,6.0,9.0],\n",
        "                       dtype=torch.float16)\n",
        "\n",
        "ftensor.dtype\n"
      ],
      "metadata": {
        "colab": {
          "base_uri": "https://localhost:8080/"
        },
        "id": "vq6hqVe0HdSu",
        "outputId": "2720d9f2-ea0c-4daa-d2a2-9b58c0eefb33"
      },
      "execution_count": 29,
      "outputs": [
        {
          "output_type": "execute_result",
          "data": {
            "text/plain": [
              "torch.float16"
            ]
          },
          "metadata": {},
          "execution_count": 29
        }
      ]
    },
    {
      "cell_type": "code",
      "source": [
        "tenso = torch.rand(3,4)\n",
        "\n",
        "print(tenso)\n",
        "print({tensor.shape})\n",
        "print({tensor.dtype})\n",
        "print({tensor.device})"
      ],
      "metadata": {
        "colab": {
          "base_uri": "https://localhost:8080/"
        },
        "id": "aTKoBaI7Ib--",
        "outputId": "b889feb5-ca8c-419f-d4f4-d274d195dfb2"
      },
      "execution_count": 32,
      "outputs": [
        {
          "output_type": "stream",
          "name": "stdout",
          "text": [
            "tensor([[0.7762, 0.1704, 0.2977, 0.4337],\n",
            "        [0.5016, 0.6075, 0.3189, 0.6002],\n",
            "        [0.6033, 0.4952, 0.6361, 0.2590]])\n",
            "{torch.Size([1, 3, 3])}\n",
            "{torch.int64}\n",
            "{device(type='cpu')}\n"
          ]
        }
      ]
    },
    {
      "cell_type": "code",
      "source": [
        "tens = torch.tensor ([1,2,3])\n",
        "tens * 10"
      ],
      "metadata": {
        "colab": {
          "base_uri": "https://localhost:8080/"
        },
        "id": "KAIhWm4KIwQu",
        "outputId": "cacd6944-9254-4880-bb3e-cbacf4e8a30d"
      },
      "execution_count": 33,
      "outputs": [
        {
          "output_type": "execute_result",
          "data": {
            "text/plain": [
              "tensor([10, 20, 30])"
            ]
          },
          "metadata": {},
          "execution_count": 33
        }
      ]
    },
    {
      "cell_type": "code",
      "source": [
        "tens"
      ],
      "metadata": {
        "colab": {
          "base_uri": "https://localhost:8080/"
        },
        "id": "Ob_aCqoeJyNm",
        "outputId": "7a68709e-b871-404b-efc1-65e710f52d9d"
      },
      "execution_count": 34,
      "outputs": [
        {
          "output_type": "execute_result",
          "data": {
            "text/plain": [
              "tensor([1, 2, 3])"
            ]
          },
          "metadata": {},
          "execution_count": 34
        }
      ]
    },
    {
      "cell_type": "code",
      "source": [
        "tens = tens - 10\n",
        "tens"
      ],
      "metadata": {
        "colab": {
          "base_uri": "https://localhost:8080/"
        },
        "id": "YqFrDy6-J1B0",
        "outputId": "139391e7-665f-46c3-acbd-6dc8c1c3c6b5"
      },
      "execution_count": 35,
      "outputs": [
        {
          "output_type": "execute_result",
          "data": {
            "text/plain": [
              "tensor([-9, -8, -7])"
            ]
          },
          "metadata": {},
          "execution_count": 35
        }
      ]
    },
    {
      "cell_type": "code",
      "source": [
        "tens"
      ],
      "metadata": {
        "colab": {
          "base_uri": "https://localhost:8080/"
        },
        "id": "h-PALSW_J5ng",
        "outputId": "436e9338-8f3b-40df-952f-335bc8a69fd4"
      },
      "execution_count": 36,
      "outputs": [
        {
          "output_type": "execute_result",
          "data": {
            "text/plain": [
              "tensor([-9, -8, -7])"
            ]
          },
          "metadata": {},
          "execution_count": 36
        }
      ]
    },
    {
      "cell_type": "code",
      "source": [
        "tens = tens + 10\n",
        "tens"
      ],
      "metadata": {
        "colab": {
          "base_uri": "https://localhost:8080/"
        },
        "id": "C47vvinoJ7aI",
        "outputId": "7f2bd708-4809-4226-bbee-6761a4288f72"
      },
      "execution_count": 38,
      "outputs": [
        {
          "output_type": "execute_result",
          "data": {
            "text/plain": [
              "tensor([11, 12, 13])"
            ]
          },
          "metadata": {},
          "execution_count": 38
        }
      ]
    },
    {
      "cell_type": "code",
      "source": [
        "torch.multiply(tens,10)\n",
        "tens"
      ],
      "metadata": {
        "colab": {
          "base_uri": "https://localhost:8080/"
        },
        "id": "Abb6uheYKJq8",
        "outputId": "59cffe7a-d8df-4d2a-e098-e5772ddfa72f"
      },
      "execution_count": 40,
      "outputs": [
        {
          "output_type": "execute_result",
          "data": {
            "text/plain": [
              "tensor([11, 12, 13])"
            ]
          },
          "metadata": {},
          "execution_count": 40
        }
      ]
    },
    {
      "cell_type": "code",
      "source": [
        "tens"
      ],
      "metadata": {
        "colab": {
          "base_uri": "https://localhost:8080/"
        },
        "id": "pNBXpr2TKJI2",
        "outputId": "06177a73-485b-409d-d436-b67cd7d4e97b"
      },
      "execution_count": 42,
      "outputs": [
        {
          "output_type": "execute_result",
          "data": {
            "text/plain": [
              "tensor([11, 12, 13])"
            ]
          },
          "metadata": {},
          "execution_count": 42
        }
      ]
    },
    {
      "cell_type": "code",
      "source": [
        "tens*tens"
      ],
      "metadata": {
        "colab": {
          "base_uri": "https://localhost:8080/"
        },
        "id": "KrfVsZQEL-a-",
        "outputId": "8432789c-363c-47bf-a686-65b33c18d8b5"
      },
      "execution_count": 43,
      "outputs": [
        {
          "output_type": "execute_result",
          "data": {
            "text/plain": [
              "tensor([121, 144, 169])"
            ]
          },
          "metadata": {},
          "execution_count": 43
        }
      ]
    },
    {
      "cell_type": "code",
      "source": [
        "tens"
      ],
      "metadata": {
        "colab": {
          "base_uri": "https://localhost:8080/"
        },
        "id": "PR3a0qT3MFZ-",
        "outputId": "4c037be7-aaaa-4bbc-d2c4-b9a959028e0d"
      },
      "execution_count": 44,
      "outputs": [
        {
          "output_type": "execute_result",
          "data": {
            "text/plain": [
              "tensor([11, 12, 13])"
            ]
          },
          "metadata": {},
          "execution_count": 44
        }
      ]
    },
    {
      "cell_type": "code",
      "source": [
        "tens = tens - 10\n",
        "tens"
      ],
      "metadata": {
        "colab": {
          "base_uri": "https://localhost:8080/"
        },
        "id": "xHmhiIBAM5oG",
        "outputId": "d7cb4ff2-0c8c-4025-d623-bffb04a80538"
      },
      "execution_count": 45,
      "outputs": [
        {
          "output_type": "execute_result",
          "data": {
            "text/plain": [
              "tensor([1, 2, 3])"
            ]
          },
          "metadata": {},
          "execution_count": 45
        }
      ]
    },
    {
      "cell_type": "code",
      "source": [
        "tens"
      ],
      "metadata": {
        "colab": {
          "base_uri": "https://localhost:8080/"
        },
        "id": "ztKVlLO6M8OH",
        "outputId": "de429383-4851-4f93-c0b4-12c062db3a70"
      },
      "execution_count": 46,
      "outputs": [
        {
          "output_type": "execute_result",
          "data": {
            "text/plain": [
              "tensor([1, 2, 3])"
            ]
          },
          "metadata": {},
          "execution_count": 46
        }
      ]
    },
    {
      "cell_type": "code",
      "source": [
        "import torch\n",
        "\n",
        "tens = torch.tensor ([1,2,3])\n",
        "\n",
        "tens.shape"
      ],
      "metadata": {
        "colab": {
          "base_uri": "https://localhost:8080/"
        },
        "id": "sGRlaX_kM9Z_",
        "outputId": "f203817f-6054-4f0f-a520-d352bbc1f43d"
      },
      "execution_count": 48,
      "outputs": [
        {
          "output_type": "execute_result",
          "data": {
            "text/plain": [
              "torch.Size([3])"
            ]
          },
          "metadata": {},
          "execution_count": 48
        }
      ]
    },
    {
      "cell_type": "code",
      "source": [
        "tens * tens"
      ],
      "metadata": {
        "colab": {
          "base_uri": "https://localhost:8080/"
        },
        "id": "uSqetO-WQcps",
        "outputId": "a53bbcd9-3045-4b0c-e889-5e47ba0c61e0"
      },
      "execution_count": 49,
      "outputs": [
        {
          "output_type": "execute_result",
          "data": {
            "text/plain": [
              "tensor([1, 4, 9])"
            ]
          },
          "metadata": {},
          "execution_count": 49
        }
      ]
    },
    {
      "cell_type": "code",
      "source": [
        "tens.matmul(tens)"
      ],
      "metadata": {
        "colab": {
          "base_uri": "https://localhost:8080/"
        },
        "id": "7OWJXM68QkxY",
        "outputId": "f40cffc7-eb44-4187-a865-d1e1b175ac8b"
      },
      "execution_count": 50,
      "outputs": [
        {
          "output_type": "execute_result",
          "data": {
            "text/plain": [
              "tensor(14)"
            ]
          },
          "metadata": {},
          "execution_count": 50
        }
      ]
    },
    {
      "cell_type": "code",
      "source": [
        "tens @ tens"
      ],
      "metadata": {
        "colab": {
          "base_uri": "https://localhost:8080/"
        },
        "id": "xrNh4ubzQpzm",
        "outputId": "419a13dc-1e35-4caa-b9df-d153564c60ca"
      },
      "execution_count": 51,
      "outputs": [
        {
          "output_type": "execute_result",
          "data": {
            "text/plain": [
              "tensor(14)"
            ]
          },
          "metadata": {},
          "execution_count": 51
        }
      ]
    },
    {
      "cell_type": "code",
      "source": [
        "%%time\n",
        "value = 0\n",
        "for i in range(len(tens)):\n",
        "  value += tens[i] * tens[i]\n",
        "value"
      ],
      "metadata": {
        "colab": {
          "base_uri": "https://localhost:8080/"
        },
        "id": "8sj9gYw7Qv1C",
        "outputId": "808e8ba6-dc70-4c51-d219-c819c8d098c5"
      },
      "execution_count": 55,
      "outputs": [
        {
          "output_type": "stream",
          "name": "stdout",
          "text": [
            "CPU times: user 1.9 ms, sys: 33 µs, total: 1.93 ms\n",
            "Wall time: 1.59 ms\n"
          ]
        },
        {
          "output_type": "execute_result",
          "data": {
            "text/plain": [
              "tensor(14)"
            ]
          },
          "metadata": {},
          "execution_count": 55
        }
      ]
    },
    {
      "cell_type": "code",
      "source": [
        "%%time\n",
        "tens @ tens"
      ],
      "metadata": {
        "colab": {
          "base_uri": "https://localhost:8080/"
        },
        "id": "MPNzflMiRDw_",
        "outputId": "61f8ff8e-5639-4997-e4e2-c6108b599f0d"
      },
      "execution_count": 57,
      "outputs": [
        {
          "output_type": "stream",
          "name": "stdout",
          "text": [
            "CPU times: user 63 µs, sys: 974 µs, total: 1.04 ms\n",
            "Wall time: 1.04 ms\n"
          ]
        },
        {
          "output_type": "execute_result",
          "data": {
            "text/plain": [
              "tensor(14)"
            ]
          },
          "metadata": {},
          "execution_count": 57
        }
      ]
    },
    {
      "cell_type": "code",
      "source": [
        "tensa=torch.tensor([[1,2,3],\n",
        "                    [3,4,4],\n",
        "                    [5,6,6]],dtype=torch.float32)\n",
        "\n",
        "tensb=torch.tensor([[1,2],\n",
        "                   [3,4],\n",
        "                    [5,6]]\n",
        "                   ,dtype=torch.float32)\n",
        "\n"
      ],
      "metadata": {
        "id": "5RjWefh7RIyz"
      },
      "execution_count": 74,
      "outputs": []
    },
    {
      "cell_type": "code",
      "source": [
        "print(tensa)\n",
        "print(tensb)"
      ],
      "metadata": {
        "colab": {
          "base_uri": "https://localhost:8080/"
        },
        "id": "gf1MGf5lS6ZS",
        "outputId": "224bdf86-be7b-4ace-f363-b951dd3b3abf"
      },
      "execution_count": 63,
      "outputs": [
        {
          "output_type": "stream",
          "name": "stdout",
          "text": [
            "tensor([[1., 2.],\n",
            "        [3., 4.],\n",
            "        [5., 6.]])\n",
            "tensor([[1., 2.],\n",
            "        [3., 4.],\n",
            "        [5., 6.]])\n"
          ]
        }
      ]
    },
    {
      "cell_type": "code",
      "source": [
        "print(tensa)\n",
        "print(tensb.T)"
      ],
      "metadata": {
        "colab": {
          "base_uri": "https://localhost:8080/"
        },
        "id": "WUVmh9eqTbTP",
        "outputId": "0a8a9165-b272-47e7-8707-774a41549e25"
      },
      "execution_count": 64,
      "outputs": [
        {
          "output_type": "stream",
          "name": "stdout",
          "text": [
            "tensor([[1., 2.],\n",
            "        [3., 4.],\n",
            "        [5., 6.]])\n",
            "tensor([[1., 3., 5.],\n",
            "        [2., 4., 6.]])\n"
          ]
        }
      ]
    },
    {
      "cell_type": "code",
      "source": [
        "output = torch.matmul(tensa,tensb.T)\n",
        "print(output)\n",
        "output.shape"
      ],
      "metadata": {
        "colab": {
          "base_uri": "https://localhost:8080/"
        },
        "id": "XudwUGMCTvig",
        "outputId": "976493ed-de68-43c1-c03a-43d300993b46"
      },
      "execution_count": 65,
      "outputs": [
        {
          "output_type": "stream",
          "name": "stdout",
          "text": [
            "tensor([[ 5., 11., 17.],\n",
            "        [11., 25., 39.],\n",
            "        [17., 39., 61.]])\n"
          ]
        },
        {
          "output_type": "execute_result",
          "data": {
            "text/plain": [
              "torch.Size([3, 3])"
            ]
          },
          "metadata": {},
          "execution_count": 65
        }
      ]
    },
    {
      "cell_type": "code",
      "source": [
        "torch.manual_seed(42)\n",
        "\n",
        "linear = torch.nn.Linear(in_features=3,out_features=6)\n",
        "\n",
        "x=tensa\n",
        "output=linear(x)\n",
        "\n",
        "print(f'input shape : {x.shape}\\n')\n",
        "print (f'output:\\n{output}\\n\\noutput shape: {output.shape}')"
      ],
      "metadata": {
        "colab": {
          "base_uri": "https://localhost:8080/"
        },
        "id": "KvK0U84xUU0t",
        "outputId": "f65c48e3-db21-4469-8d97-df9d7e3b7e12"
      },
      "execution_count": 78,
      "outputs": [
        {
          "output_type": "stream",
          "name": "stdout",
          "text": [
            "input shape : torch.Size([3, 3])\n",
            "\n",
            "output:\n",
            "tensor([[0.7245, 0.7740, 1.6579, 0.8366, 1.1836, 1.4476],\n",
            "        [2.4305, 1.6983, 2.2828, 1.1012, 2.4715, 2.2601],\n",
            "        [4.0012, 2.7390, 3.4167, 1.4738, 4.0378, 3.1579]],\n",
            "       grad_fn=<AddmmBackward0>)\n",
            "\n",
            "output shape: torch.Size([3, 6])\n"
          ]
        }
      ]
    },
    {
      "cell_type": "code",
      "source": [
        "x = torch.arange(0,100,10)\n",
        "x"
      ],
      "metadata": {
        "colab": {
          "base_uri": "https://localhost:8080/"
        },
        "id": "NeHR5Xa3mPEz",
        "outputId": "deeaec2e-18a9-4fab-a5b4-1fb8edb0f566"
      },
      "execution_count": 81,
      "outputs": [
        {
          "output_type": "execute_result",
          "data": {
            "text/plain": [
              "tensor([ 0, 10, 20, 30, 40, 50, 60, 70, 80, 90])"
            ]
          },
          "metadata": {},
          "execution_count": 81
        }
      ]
    },
    {
      "cell_type": "code",
      "source": [
        "print(x.max())\n",
        "print(x.min())\n",
        "print(x.type(torch.float32).mean())\n",
        "print(x.sum())"
      ],
      "metadata": {
        "colab": {
          "base_uri": "https://localhost:8080/"
        },
        "id": "pj_U6OVpo3k3",
        "outputId": "68483c5e-c858-405a-8d5d-046673ce5ab6"
      },
      "execution_count": 85,
      "outputs": [
        {
          "output_type": "stream",
          "name": "stdout",
          "text": [
            "tensor(90)\n",
            "tensor(0)\n",
            "tensor(45.)\n",
            "tensor(450)\n"
          ]
        }
      ]
    },
    {
      "cell_type": "code",
      "source": [
        "x.argmin(),x.argmax()"
      ],
      "metadata": {
        "colab": {
          "base_uri": "https://localhost:8080/"
        },
        "id": "qfOZP4ABpdoF",
        "outputId": "e81febc5-7142-45a4-e85a-985bb6438ca8"
      },
      "execution_count": 87,
      "outputs": [
        {
          "output_type": "execute_result",
          "data": {
            "text/plain": [
              "(tensor(0), tensor(9))"
            ]
          },
          "metadata": {},
          "execution_count": 87
        }
      ]
    },
    {
      "cell_type": "code",
      "source": [
        "x.dtype"
      ],
      "metadata": {
        "colab": {
          "base_uri": "https://localhost:8080/"
        },
        "id": "R416RiG-pjnD",
        "outputId": "980fb3dc-0899-4684-dcfc-5c5bfddcf163"
      },
      "execution_count": 88,
      "outputs": [
        {
          "output_type": "execute_result",
          "data": {
            "text/plain": [
              "torch.int64"
            ]
          },
          "metadata": {},
          "execution_count": 88
        }
      ]
    },
    {
      "cell_type": "code",
      "source": [
        "x16=x.type(torch.float16)\n",
        "x16"
      ],
      "metadata": {
        "colab": {
          "base_uri": "https://localhost:8080/"
        },
        "id": "BOfu7vuyqDPn",
        "outputId": "22fc26db-02a0-402b-bcaf-a130caeb3b08"
      },
      "execution_count": 89,
      "outputs": [
        {
          "output_type": "execute_result",
          "data": {
            "text/plain": [
              "tensor([ 0., 10., 20., 30., 40., 50., 60., 70., 80., 90.], dtype=torch.float16)"
            ]
          },
          "metadata": {},
          "execution_count": 89
        }
      ]
    },
    {
      "cell_type": "code",
      "source": [
        "x = torch.arange(1,8,1)\n",
        "x\n",
        "x.shape"
      ],
      "metadata": {
        "colab": {
          "base_uri": "https://localhost:8080/"
        },
        "id": "bc7vHCiuqRlX",
        "outputId": "c7b97142-1142-4f9f-cf31-2cc5b923865f"
      },
      "execution_count": 94,
      "outputs": [
        {
          "output_type": "execute_result",
          "data": {
            "text/plain": [
              "torch.Size([7])"
            ]
          },
          "metadata": {},
          "execution_count": 94
        }
      ]
    },
    {
      "cell_type": "code",
      "source": [
        "xr=x.reshape(1,7)\n",
        "xr,xr.shape"
      ],
      "metadata": {
        "colab": {
          "base_uri": "https://localhost:8080/"
        },
        "id": "s0-iPrbEtVMs",
        "outputId": "0f5379eb-23b9-44f2-839d-e2d3b0e492f7"
      },
      "execution_count": 100,
      "outputs": [
        {
          "output_type": "execute_result",
          "data": {
            "text/plain": [
              "(tensor([[1, 2, 3, 4, 5, 6, 7]]), torch.Size([1, 7]))"
            ]
          },
          "metadata": {},
          "execution_count": 100
        }
      ]
    },
    {
      "cell_type": "code",
      "source": [
        "z=x.view(1,7)\n",
        "z,z.shape"
      ],
      "metadata": {
        "colab": {
          "base_uri": "https://localhost:8080/"
        },
        "id": "oBVx0vAitlJI",
        "outputId": "6d55d4f1-c93e-4007-fcf5-c2703d92dcaa"
      },
      "execution_count": 102,
      "outputs": [
        {
          "output_type": "execute_result",
          "data": {
            "text/plain": [
              "(tensor([[1, 2, 3, 4, 5, 6, 7]]), torch.Size([1, 7]))"
            ]
          },
          "metadata": {},
          "execution_count": 102
        }
      ]
    },
    {
      "cell_type": "code",
      "source": [
        "z[:,0]=5\n",
        "z,x"
      ],
      "metadata": {
        "colab": {
          "base_uri": "https://localhost:8080/"
        },
        "id": "RoAXelnruKsX",
        "outputId": "2355ce4b-6163-41a0-a963-11fa84900ec2"
      },
      "execution_count": 103,
      "outputs": [
        {
          "output_type": "execute_result",
          "data": {
            "text/plain": [
              "(tensor([[5, 2, 3, 4, 5, 6, 7]]), tensor([5, 2, 3, 4, 5, 6, 7]))"
            ]
          },
          "metadata": {},
          "execution_count": 103
        }
      ]
    },
    {
      "cell_type": "code",
      "source": [
        "xs=torch.stack([x,x,x,x],dim=0)\n",
        "xs"
      ],
      "metadata": {
        "colab": {
          "base_uri": "https://localhost:8080/"
        },
        "id": "XTqCwfXcuSRy",
        "outputId": "6e2b1cbb-9e19-417d-b128-1587638bb329"
      },
      "execution_count": 112,
      "outputs": [
        {
          "output_type": "execute_result",
          "data": {
            "text/plain": [
              "tensor([[5, 2, 3, 4, 5, 6, 7],\n",
              "        [5, 2, 3, 4, 5, 6, 7],\n",
              "        [5, 2, 3, 4, 5, 6, 7],\n",
              "        [5, 2, 3, 4, 5, 6, 7]])"
            ]
          },
          "metadata": {},
          "execution_count": 112
        }
      ]
    },
    {
      "cell_type": "code",
      "source": [
        "xs=torch.stack([x,x,x,x],dim=1)\n",
        "xs,xs.shape"
      ],
      "metadata": {
        "colab": {
          "base_uri": "https://localhost:8080/"
        },
        "id": "nepCL7OBus34",
        "outputId": "ada7fc07-63df-4a8a-cb15-fca16238575e"
      },
      "execution_count": 114,
      "outputs": [
        {
          "output_type": "execute_result",
          "data": {
            "text/plain": [
              "(tensor([[5, 5, 5, 5],\n",
              "         [2, 2, 2, 2],\n",
              "         [3, 3, 3, 3],\n",
              "         [4, 4, 4, 4],\n",
              "         [5, 5, 5, 5],\n",
              "         [6, 6, 6, 6],\n",
              "         [7, 7, 7, 7]]),\n",
              " torch.Size([7, 4]))"
            ]
          },
          "metadata": {},
          "execution_count": 114
        }
      ]
    },
    {
      "cell_type": "code",
      "source": [
        "xsque=xr.squeeze()\n",
        "xsque,xsque.shape"
      ],
      "metadata": {
        "colab": {
          "base_uri": "https://localhost:8080/"
        },
        "id": "CZg5r-yRwcS_",
        "outputId": "ad97ff2b-8fb2-4c2b-cf8d-0c48ca8986b8"
      },
      "execution_count": 116,
      "outputs": [
        {
          "output_type": "execute_result",
          "data": {
            "text/plain": [
              "(tensor([5, 2, 3, 4, 5, 6, 7]), torch.Size([7]))"
            ]
          },
          "metadata": {},
          "execution_count": 116
        }
      ]
    },
    {
      "cell_type": "code",
      "source": [
        "xsque=xr.unsqueeze(dim=0)\n",
        "xsque,xsque.shape"
      ],
      "metadata": {
        "colab": {
          "base_uri": "https://localhost:8080/"
        },
        "id": "RDVRKPacw23Y",
        "outputId": "76064188-1b2a-4a26-dc85-94ff00470815"
      },
      "execution_count": 117,
      "outputs": [
        {
          "output_type": "execute_result",
          "data": {
            "text/plain": [
              "(tensor([[[5, 2, 3, 4, 5, 6, 7]]]), torch.Size([1, 1, 7]))"
            ]
          },
          "metadata": {},
          "execution_count": 117
        }
      ]
    },
    {
      "cell_type": "code",
      "source": [],
      "metadata": {
        "id": "GFa0FUflxCno"
      },
      "execution_count": null,
      "outputs": []
    }
  ]
}